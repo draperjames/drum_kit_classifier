{
 "cells": [
  {
   "cell_type": "markdown",
   "id": "b7ec7c8c-6bfd-4524-8682-75b282f99289",
   "metadata": {},
   "source": [
    "# Make scikitlearn classifier to distiguish samples\n",
    "\n",
    "If you have heard ANY music made in the last 40 years you have heard the sounds of these two classic drum machines:\n",
    "## [Roland TR-808](https://en.wikipedia.org/wiki/Roland_TR-808)\n",
    "\n",
    "<img src=\"images/tr808.jpg\" width=\"800\" />\n",
    "\n",
    "## [Roland TR-909](https://en.wikipedia.org/wiki/Roland_TR-909)\n",
    "\n",
    "<img src=\"images/tr909.png\" width=\"800\" />\n",
    "\n",
    "## Background\n",
    "These two machines designed and marketed to replace the drummer in your band were met with such distain initially that their respective values plummeted from thier original list prices of around 900 USD retail on first release to around 50 USD on the secondary market only a few sort years after. These cheap machines were now availible to young people all over the United States and became a staple in the hiphop community. The synthetic drum sounds of the TR-808 and TR-909 have inspired many clones over the years and are still used and highly sought after to this day.\n",
    "\n",
    "So I've been investigating sound synthesis recently and I came across a website [drumkito](https://www.drumkito.com/) that has some great sample packs based on iconic drums machines over the years.\n",
    "\n",
    "Armed with this library of data I will attempt to create a classifier that can distiguish which type of sound (kick drum, high tom, ect.) any given sample sounds like\n",
    "\n",
    "The application of this tool could be used in multiple ways but we will implement it to help organize an adhoc sample library that we will be able to use with the ipytone jupyter lab based drum pad that I'll be posting soon.\n"
   ]
  },
  {
   "cell_type": "markdown",
   "id": "0ebece06-c4ca-469b-8701-a6f5d6aecf04",
   "metadata": {},
   "source": [
    "From the text file found in this download of the samples: \n",
    "https://www.drumkito.com/sample-packs/roland-tr-909-sample-pack/\n",
    "\n",
    "---------------------\n",
    "\n",
    "Sample Identification\n",
    "---------------------\n",
    "```\n",
    "Instrument (first letter)       Settings (in order)             Directory\n",
    "\n",
    "b       bass drum               t=tune, a=attack, d=decay       \\bassdm         \n",
    "s       snare drum              t=tune, t=tone, s=snappy        \\snaredm\n",
    "l       low tom                 t=tune, d=decay                 \\lowtomdm\n",
    "m       mid tom                 t=tune, d=decay                 \\midtomdm\n",
    "h       high tom                t=tune, d=decay                 \\hitomdm\n",
    "rim     rimshot                 #=velocity level                \\rimshot\n",
    "hand    handclap                #=velocity level                \\handclap\n",
    "hhc     closed high hat         d=decay                         \\closedhh\n",
    "hho     open high hat           d=decay                         \\openhh\n",
    "csh     crash cymbal            t=tune                          \\crshcym\n",
    "ride    ride cymbal             t=tune                          \\ridecym\n",
    "clop    closed->open hh         #=combination number            \\misc\n",
    "opcl    open->closed hh         #=combination number            \\misc\n",
    "\n",
    "```"
   ]
  },
  {
   "cell_type": "code",
   "execution_count": 2,
   "id": "26342f6c-1a03-4b08-8af4-67a4ddad03de",
   "metadata": {},
   "outputs": [],
   "source": [
    "import os\n",
    "import numpy as np\n",
    "import pandas as pd\n",
    "\n",
    "import ipywidgets as widgets\n",
    "from scipy.io import wavfile\n",
    "\n",
    "import matplotlib.pyplot as plt"
   ]
  },
  {
   "cell_type": "code",
   "execution_count": 3,
   "id": "915ba6de-1cc8-439c-b7fa-0476dbeaf153",
   "metadata": {},
   "outputs": [],
   "source": [
    "sample_dir = \"Roland TR-909/.\"\n",
    "\n",
    "sample_list = os.listdir(sample_dir)\n",
    "\n",
    "sample_names = [i.split('.')[0] for i in sample_list]"
   ]
  },
  {
   "cell_type": "code",
   "execution_count": 6,
   "id": "664741de-5ba3-468f-a314-ed637576c2df",
   "metadata": {},
   "outputs": [],
   "source": [
    "sample_labels = \"\"\"b       bass_drum\n",
    "s       snare_drum\n",
    "l       low_tom\n",
    "m       mid_tom\n",
    "ht       high_tom\n",
    "rim     rimshot\n",
    "hand    handclap\n",
    "hhc     closed_high_hat\n",
    "hho     open_high_hat\n",
    "csh     crash_cymbal\n",
    "ride    ride_cymbal\n",
    "clop    closed_open_hh\n",
    "opcl    open_closed_hh\"\"\"\n",
    "\n",
    "sample_label_dict = dict([i.split() for i in sample_labels.split('\\n')])"
   ]
  },
  {
   "cell_type": "code",
   "execution_count": 7,
   "id": "6c3064e4-be70-46a3-9bb8-48258c340aa0",
   "metadata": {},
   "outputs": [
    {
     "data": {
      "text/plain": [
       "{'B': 'bass_drum',\n",
       " 'S': 'snare_drum',\n",
       " 'L': 'low_tom',\n",
       " 'M': 'mid_tom',\n",
       " 'HT': 'high_tom',\n",
       " 'RIM': 'rimshot',\n",
       " 'HAND': 'handclap',\n",
       " 'HHC': 'closed_high_hat',\n",
       " 'HHO': 'open_high_hat',\n",
       " 'CSH': 'crash_cymbal',\n",
       " 'RIDE': 'ride_cymbal',\n",
       " 'CLOP': 'closed_open_hh',\n",
       " 'OPCL': 'open_closed_hh'}"
      ]
     },
     "execution_count": 7,
     "metadata": {},
     "output_type": "execute_result"
    }
   ],
   "source": [
    "new_keys = [i.upper() for i in sample_label_dict.keys()]\n",
    "\n",
    "sample_label_dict = dict(zip(new_keys, sample_label_dict.values()))\n",
    "\n",
    "sample_label_dict"
   ]
  },
  {
   "cell_type": "markdown",
   "id": "87fd2bbc-0bbd-42bb-b640-1154d478c300",
   "metadata": {},
   "source": [
    "# Link the sample file name to the label"
   ]
  },
  {
   "cell_type": "code",
   "execution_count": 10,
   "id": "f9c61622-354d-460d-b79c-c565f16f87ff",
   "metadata": {},
   "outputs": [
    {
     "data": {
      "text/html": [
       "<div>\n",
       "<style scoped>\n",
       "    .dataframe tbody tr th:only-of-type {\n",
       "        vertical-align: middle;\n",
       "    }\n",
       "\n",
       "    .dataframe tbody tr th {\n",
       "        vertical-align: top;\n",
       "    }\n",
       "\n",
       "    .dataframe thead th {\n",
       "        text-align: right;\n",
       "    }\n",
       "</style>\n",
       "<table border=\"1\" class=\"dataframe\">\n",
       "  <thead>\n",
       "    <tr style=\"text-align: right;\">\n",
       "      <th></th>\n",
       "      <th>sample_name</th>\n",
       "      <th>label</th>\n",
       "    </tr>\n",
       "  </thead>\n",
       "  <tbody>\n",
       "    <tr>\n",
       "      <th>0</th>\n",
       "      <td>BT0A0A7</td>\n",
       "      <td>bass_drum</td>\n",
       "    </tr>\n",
       "    <tr>\n",
       "      <th>1</th>\n",
       "      <td>BT0A0D0</td>\n",
       "      <td>bass_drum</td>\n",
       "    </tr>\n",
       "    <tr>\n",
       "      <th>2</th>\n",
       "      <td>BT0A0D3</td>\n",
       "      <td>bass_drum</td>\n",
       "    </tr>\n",
       "    <tr>\n",
       "      <th>3</th>\n",
       "      <td>BT0A0DA</td>\n",
       "      <td>bass_drum</td>\n",
       "    </tr>\n",
       "    <tr>\n",
       "      <th>4</th>\n",
       "      <td>BT0AAD0</td>\n",
       "      <td>bass_drum</td>\n",
       "    </tr>\n",
       "  </tbody>\n",
       "</table>\n",
       "</div>"
      ],
      "text/plain": [
       "  sample_name      label\n",
       "0     BT0A0A7  bass_drum\n",
       "1     BT0A0D0  bass_drum\n",
       "2     BT0A0D3  bass_drum\n",
       "3     BT0A0DA  bass_drum\n",
       "4     BT0AAD0  bass_drum"
      ]
     },
     "execution_count": 10,
     "metadata": {},
     "output_type": "execute_result"
    }
   ],
   "source": [
    "sample_df = pd.DataFrame(sample_names[:-1], columns=[\"sample_name\"])\n",
    "\n",
    "sample_label_df = pd.DataFrame([sample_label_dict.keys(), sample_label_dict.values()]).T\n",
    "\n",
    "# Create a function to check the file title and link the label\n",
    "def label_check(sample_name):\n",
    "    mask = [i in sample_name for i in sample_label_dict.keys()]\n",
    "    key = sample_label_df.loc[mask][0].values[0]\n",
    "    return sample_label_dict[key]\n",
    "\n",
    "sample_df['label'] = sample_df.sample_name.apply(label_check)\n",
    "\n",
    "sample_df.head()"
   ]
  },
  {
   "cell_type": "markdown",
   "id": "50ff27d0-86d2-4dbc-bae7-56b42fe31af2",
   "metadata": {},
   "source": [
    "# Create a data frame of each wavfile's length and data points"
   ]
  },
  {
   "cell_type": "code",
   "execution_count": 11,
   "id": "101842f4-80bf-4d33-9c36-6e07ba49b516",
   "metadata": {},
   "outputs": [
    {
     "data": {
      "text/html": [
       "<div>\n",
       "<style scoped>\n",
       "    .dataframe tbody tr th:only-of-type {\n",
       "        vertical-align: middle;\n",
       "    }\n",
       "\n",
       "    .dataframe tbody tr th {\n",
       "        vertical-align: top;\n",
       "    }\n",
       "\n",
       "    .dataframe thead th {\n",
       "        text-align: right;\n",
       "    }\n",
       "</style>\n",
       "<table border=\"1\" class=\"dataframe\">\n",
       "  <thead>\n",
       "    <tr style=\"text-align: right;\">\n",
       "      <th></th>\n",
       "      <th>length</th>\n",
       "      <th>data</th>\n",
       "    </tr>\n",
       "  </thead>\n",
       "  <tbody>\n",
       "    <tr>\n",
       "      <th>0</th>\n",
       "      <td>12554</td>\n",
       "      <td>[18770, 17990, 26116, 0, 16727, 17750, 28006, ...</td>\n",
       "    </tr>\n",
       "    <tr>\n",
       "      <th>1</th>\n",
       "      <td>4489</td>\n",
       "      <td>[18770, 17990, 9686, 0, 16727, 17750, 28006, 8...</td>\n",
       "    </tr>\n",
       "    <tr>\n",
       "      <th>2</th>\n",
       "      <td>7569</td>\n",
       "      <td>[18770, 17990, 15316, 0, 16727, 17750, 28006, ...</td>\n",
       "    </tr>\n",
       "    <tr>\n",
       "      <th>3</th>\n",
       "      <td>21992</td>\n",
       "      <td>[0, 0, 295, 445, 613, 821, 1135, 1482, 1635, 1...</td>\n",
       "    </tr>\n",
       "    <tr>\n",
       "      <th>4</th>\n",
       "      <td>4792</td>\n",
       "      <td>[0, 0, 733, 1301, 1851, 1947, 1786, 1888, 2292...</td>\n",
       "    </tr>\n",
       "  </tbody>\n",
       "</table>\n",
       "</div>"
      ],
      "text/plain": [
       "  length                                               data\n",
       "0  12554  [18770, 17990, 26116, 0, 16727, 17750, 28006, ...\n",
       "1   4489  [18770, 17990, 9686, 0, 16727, 17750, 28006, 8...\n",
       "2   7569  [18770, 17990, 15316, 0, 16727, 17750, 28006, ...\n",
       "3  21992  [0, 0, 295, 445, 613, 821, 1135, 1482, 1635, 1...\n",
       "4   4792  [0, 0, 733, 1301, 1851, 1947, 1786, 1888, 2292..."
      ]
     },
     "execution_count": 11,
     "metadata": {},
     "output_type": "execute_result"
    }
   ],
   "source": [
    "wav_df = sample_df.sample_name.apply(lambda x: wavfile.read(sample_dir[:-1]+x+\".WAV\")[1])\n",
    "\n",
    "wav_sample_df = pd.DataFrame([wav_df.apply(len), wav_df]).T\n",
    "\n",
    "wav_sample_df.columns = ['length', 'data']\n",
    "\n",
    "wav_sample_df.head()"
   ]
  },
  {
   "cell_type": "markdown",
   "id": "d8419dd4-8fd9-4650-9f0d-066e79fe39cb",
   "metadata": {},
   "source": [
    "# Now we need to find a way to make our samples comparible\n",
    "\n",
    "- One way to do this, and the simplest thatI thought of on the fly is to just make them all the same length by adding zeros\n",
    "- Note: I am unsure how `scipy.wavfile.read` handles sample rate vs length when outputting to a matrix\n",
    "- We are just going to assume that every file has the same sample rate so we will make them the same length"
   ]
  },
  {
   "cell_type": "code",
   "execution_count": 13,
   "id": "b3a10df3-662b-460d-97b1-3ae17ceb9f04",
   "metadata": {},
   "outputs": [],
   "source": [
    "max_sample_len = wav_sample_df.data.apply(len).max()\n",
    "\n",
    "def normalize_by_adding_zeros(array):\n",
    "    max_sample_len = wav_sample_df.data.apply(len).max()\n",
    "    if len(array) < max_sample_len:\n",
    "        difference = max_sample_len - len(array)\n",
    "        # print(difference)\n",
    "        new_array = np.append(array, np.zeros(difference))\n",
    "        \n",
    "        return new_array\n",
    "    else:\n",
    "        return array[:max_sample_len]\n",
    "\n",
    "normalized_data = wav_sample_df.data.apply(normalize_by_adding_zeros)"
   ]
  },
  {
   "cell_type": "code",
   "execution_count": 14,
   "id": "d9dfbdf8-0de6-4e78-88da-b7cb6ce6b93e",
   "metadata": {},
   "outputs": [
    {
     "data": {
      "text/plain": [
       "160"
      ]
     },
     "execution_count": 14,
     "metadata": {},
     "output_type": "execute_result"
    }
   ],
   "source": [
    "# Check to see if we normalized all of the data\n",
    "sum(normalized_data.apply(len) == max_sample_len)"
   ]
  },
  {
   "cell_type": "code",
   "execution_count": 15,
   "id": "2d6cd934-fa06-4971-b6bc-33da5e9e4439",
   "metadata": {},
   "outputs": [],
   "source": [
    "data = pd.DataFrame(normalized_data.tolist())"
   ]
  },
  {
   "cell_type": "markdown",
   "id": "2f9ab8e4-e856-426d-b8c3-b6777330e20b",
   "metadata": {},
   "source": [
    "# Create our classifier"
   ]
  },
  {
   "cell_type": "code",
   "execution_count": 16,
   "id": "509c062f-0ea2-47f4-a482-8ea8e5a6ddf2",
   "metadata": {},
   "outputs": [
    {
     "data": {
      "text/plain": [
       "0.65625"
      ]
     },
     "execution_count": 16,
     "metadata": {},
     "output_type": "execute_result"
    }
   ],
   "source": [
    "from sklearn.model_selection import train_test_split\n",
    "from sklearn.datasets import load_iris\n",
    "from sklearn.tree import DecisionTreeClassifier\n",
    "from sklearn.ensemble import GradientBoostingClassifier\n",
    "\n",
    "X_train, X_test, y_train, y_test = train_test_split(data, sample_df.label, test_size=0.2, random_state=42)\n",
    "\n",
    "# Create and train a classifier\n",
    "clf = DecisionTreeClassifier()\n",
    "\n",
    "# clf = GradientBoostingClassifier(n_estimators=100,\n",
    "#                                  learning_rate=1.0,\n",
    "#                                  max_depth=1,\n",
    "#                                  random_state=0)\n",
    "\n",
    "clf.fit(X_train, y_train)\n",
    "clf.score(X_test, y_test)"
   ]
  },
  {
   "cell_type": "code",
   "execution_count": 17,
   "id": "25ea40d2-224a-4516-8b76-ed5962637758",
   "metadata": {},
   "outputs": [],
   "source": [
    "# Make predictions on the test set\n",
    "y_pred = clf.predict(X_test)\n"
   ]
  },
  {
   "cell_type": "markdown",
   "id": "bbe96af4-73d9-4ebb-b5dc-8160bf7ae5cc",
   "metadata": {},
   "source": [
    "# Let's try the 909 classifier on the the 808"
   ]
  },
  {
   "cell_type": "code",
   "execution_count": 22,
   "id": "14dac745-060c-440d-ad5c-3bf29ee6a212",
   "metadata": {},
   "outputs": [],
   "source": [
    "import glob\n",
    "\n",
    "sample_dir_808 = \"Roland TR-808/*/*.WAV\"\n",
    "sample_files_808 = glob.glob(sample_dir_808)\n",
    "\n",
    "# Let's pick a file that I know is a bass drum\n",
    "bd_808 = wavfile.read(sample_files_808[5])[1]"
   ]
  },
  {
   "cell_type": "code",
   "execution_count": 23,
   "id": "1802e247-b863-4e95-ba62-93f89114294a",
   "metadata": {},
   "outputs": [
    {
     "data": {
      "text/plain": [
       "array(['snare_drum'], dtype=object)"
      ]
     },
     "execution_count": 23,
     "metadata": {},
     "output_type": "execute_result"
    }
   ],
   "source": [
    "clf.predict([normalize_by_adding_zeros(bd_808)])"
   ]
  },
  {
   "cell_type": "markdown",
   "id": "6e87cc13-2662-4384-808e-c528d9e040b4",
   "metadata": {},
   "source": [
    "# Conclusions:\n",
    "- The classifer using the Roland 909 data failed to acurately predict a sample from the Roland 808 sample set\n",
    "- There are a couple of things that we can do to improve our classifer\n",
    "## How can we make better classifications\n",
    "- we need to optimize this classifier\n",
    "    - Every time that I have run this with a default `DecisionTreeClassifier` settings we are getting scores ranging from 0.60 to 0.75\n",
    "    - We can try using hyperopt or optuna to find the best method and hyperparameters for making a classifier\n",
    "    - We also need to look into the normalization method and the differences between the sample files"
   ]
  }
 ],
 "metadata": {
  "kernelspec": {
   "display_name": "Python 3 (ipykernel)",
   "language": "python",
   "name": "python3"
  },
  "language_info": {
   "codemirror_mode": {
    "name": "ipython",
    "version": 3
   },
   "file_extension": ".py",
   "mimetype": "text/x-python",
   "name": "python",
   "nbconvert_exporter": "python",
   "pygments_lexer": "ipython3",
   "version": "3.12.0"
  }
 },
 "nbformat": 4,
 "nbformat_minor": 5
}
